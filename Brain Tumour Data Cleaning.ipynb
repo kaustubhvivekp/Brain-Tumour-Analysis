{
 "cells": [
  {
   "cell_type": "code",
   "execution_count": 190,
   "id": "1a05d5cb-41f5-414a-9a91-77dc2bd08913",
   "metadata": {},
   "outputs": [
    {
     "name": "stdout",
     "output_type": "stream",
     "text": [
      "Here are the first five rows of the dataset:\n",
      "   Patient_ID  Age  Gender Tumor_Type  Tumor_Size  Location        Histology  \\\n",
      "0           1   73    Male  Malignant    5.375612  Temporal      Astrocytoma   \n",
      "1           2   26    Male     Benign    4.847098  Parietal     Glioblastoma   \n",
      "2           3   31    Male     Benign    5.588391  Parietal       Meningioma   \n",
      "3           4   29    Male  Malignant    1.436600  Temporal  Medulloblastoma   \n",
      "4           5   54  Female     Benign    2.417506  Parietal     Glioblastoma   \n",
      "\n",
      "  Stage      Symptom_1 Symptom_2 Symptom_3 Radiation_Treatment  \\\n",
      "0   III  Vision Issues  Seizures  Seizures                  No   \n",
      "1    II       Headache  Headache    Nausea                 Yes   \n",
      "2     I  Vision Issues  Headache  Seizures                  No   \n",
      "3    IV  Vision Issues  Seizures  Headache                 Yes   \n",
      "4     I       Headache  Headache  Seizures                  No   \n",
      "\n",
      "  Surgery_Performed Chemotherapy  Survival_Rate  Tumor_Growth_Rate  \\\n",
      "0                No           No      51.312579           0.111876   \n",
      "1               Yes          Yes      46.373273           2.165736   \n",
      "2                No           No      47.072221           1.884228   \n",
      "3                No          Yes      51.853634           1.283342   \n",
      "4                No          Yes      54.708987           2.069477   \n",
      "\n",
      "  Family_History MRI_Result Follow_Up_Required  \n",
      "0             No   Positive                Yes  \n",
      "1            Yes   Positive                Yes  \n",
      "2             No   Negative                 No  \n",
      "3            Yes   Negative                 No  \n",
      "4             No   Positive                Yes  \n",
      "\n",
      "Dataset information:\n",
      "<class 'pandas.core.frame.DataFrame'>\n",
      "RangeIndex: 20000 entries, 0 to 19999\n",
      "Data columns (total 19 columns):\n",
      " #   Column               Non-Null Count  Dtype  \n",
      "---  ------               --------------  -----  \n",
      " 0   Patient_ID           20000 non-null  int64  \n",
      " 1   Age                  20000 non-null  int64  \n",
      " 2   Gender               20000 non-null  object \n",
      " 3   Tumor_Type           20000 non-null  object \n",
      " 4   Tumor_Size           20000 non-null  float64\n",
      " 5   Location             20000 non-null  object \n",
      " 6   Histology            20000 non-null  object \n",
      " 7   Stage                20000 non-null  object \n",
      " 8   Symptom_1            20000 non-null  object \n",
      " 9   Symptom_2            20000 non-null  object \n",
      " 10  Symptom_3            20000 non-null  object \n",
      " 11  Radiation_Treatment  20000 non-null  object \n",
      " 12  Surgery_Performed    20000 non-null  object \n",
      " 13  Chemotherapy         20000 non-null  object \n",
      " 14  Survival_Rate        20000 non-null  float64\n",
      " 15  Tumor_Growth_Rate    20000 non-null  float64\n",
      " 16  Family_History       20000 non-null  object \n",
      " 17  MRI_Result           20000 non-null  object \n",
      " 18  Follow_Up_Required   20000 non-null  object \n",
      "dtypes: float64(3), int64(2), object(14)\n",
      "memory usage: 2.9+ MB\n",
      "None\n",
      "\n",
      "Statistical summary:\n",
      "          Patient_ID           Age  Gender Tumor_Type    Tumor_Size  Location  \\\n",
      "count   20000.000000  20000.000000   20000      20000  20000.000000     20000   \n",
      "unique           NaN           NaN       2          2           NaN         4   \n",
      "top              NaN           NaN  Female  Malignant           NaN  Temporal   \n",
      "freq             NaN           NaN   10016      10030           NaN      5118   \n",
      "mean    10000.500000     49.433700     NaN        NaN      5.236552       NaN   \n",
      "std      5773.647028     17.389296     NaN        NaN      2.754359       NaN   \n",
      "min         1.000000     20.000000     NaN        NaN      0.500410       NaN   \n",
      "25%      5000.750000     34.000000     NaN        NaN      2.836686       NaN   \n",
      "50%     10000.500000     49.000000     NaN        NaN      5.200675       NaN   \n",
      "75%     15000.250000     65.000000     NaN        NaN      7.624299       NaN   \n",
      "max     20000.000000     79.000000     NaN        NaN      9.999420       NaN   \n",
      "\n",
      "           Histology  Stage Symptom_1 Symptom_2 Symptom_3 Radiation_Treatment  \\\n",
      "count          20000  20000     20000     20000     20000               20000   \n",
      "unique             4      4         4         4         4                   2   \n",
      "top     Glioblastoma     II  Headache  Seizures  Seizures                 Yes   \n",
      "freq            5068   5093      5045      5054      5027               10021   \n",
      "mean             NaN    NaN       NaN       NaN       NaN                 NaN   \n",
      "std              NaN    NaN       NaN       NaN       NaN                 NaN   \n",
      "min              NaN    NaN       NaN       NaN       NaN                 NaN   \n",
      "25%              NaN    NaN       NaN       NaN       NaN                 NaN   \n",
      "50%              NaN    NaN       NaN       NaN       NaN                 NaN   \n",
      "75%              NaN    NaN       NaN       NaN       NaN                 NaN   \n",
      "max              NaN    NaN       NaN       NaN       NaN                 NaN   \n",
      "\n",
      "       Surgery_Performed Chemotherapy  Survival_Rate  Tumor_Growth_Rate  \\\n",
      "count              20000        20000   20000.000000       20000.000000   \n",
      "unique                 2            2            NaN                NaN   \n",
      "top                  Yes          Yes            NaN                NaN   \n",
      "freq               10060        10097            NaN                NaN   \n",
      "mean                 NaN          NaN      70.131699           1.547701   \n",
      "std                  NaN          NaN      17.270834           0.835995   \n",
      "min                  NaN          NaN      40.002386           0.100017   \n",
      "25%                  NaN          NaN      55.224439           0.830433   \n",
      "50%                  NaN          NaN      70.305066           1.541821   \n",
      "75%                  NaN          NaN      85.043395           2.262484   \n",
      "max                  NaN          NaN      99.998125           2.999835   \n",
      "\n",
      "       Family_History MRI_Result Follow_Up_Required  \n",
      "count           20000      20000              20000  \n",
      "unique              2          2                  2  \n",
      "top                No   Positive                Yes  \n",
      "freq            10002      10029              10101  \n",
      "mean              NaN        NaN                NaN  \n",
      "std               NaN        NaN                NaN  \n",
      "min               NaN        NaN                NaN  \n",
      "25%               NaN        NaN                NaN  \n",
      "50%               NaN        NaN                NaN  \n",
      "75%               NaN        NaN                NaN  \n",
      "max               NaN        NaN                NaN  \n"
     ]
    }
   ],
   "source": [
    "import pandas as pd\n",
    "\n",
    "# Load the dataset from the CSV file\n",
    "df = pd.read_csv('brain_tumor_dataset.csv')\n",
    "\n",
    "# Print the first five rows to see the data structure\n",
    "print(\"Here are the first five rows of the dataset:\")\n",
    "print(df.head())\n",
    "\n",
    "# Print dataset info (data types, non-null counts, etc.)\n",
    "print(\"\\nDataset information:\")\n",
    "print(df.info())\n",
    "\n",
    "# Show statistical summary for both numerical and categorical columns\n",
    "print(\"\\nStatistical summary:\")\n",
    "print(df.describe(include='all'))"
   ]
  },
  {
   "cell_type": "code",
   "execution_count": 191,
   "id": "d45d95dc-ebd5-4ffc-be66-8d3d05af09db",
   "metadata": {},
   "outputs": [],
   "source": [
    "#one hot encode gender\n",
    "df['Gender'] = df['Gender'].map({'Male': 1, 'Female': 0})"
   ]
  },
  {
   "cell_type": "code",
   "execution_count": 192,
   "id": "8fd0a826-4d48-4777-92ad-1fca7ea9e8e1",
   "metadata": {},
   "outputs": [
    {
     "name": "stdout",
     "output_type": "stream",
     "text": [
      "   Patient_ID  Age  Gender Tumor_Type  Tumor_Size  Location        Histology  \\\n",
      "0           1   73       1  Malignant    5.375612  Temporal      Astrocytoma   \n",
      "1           2   26       1     Benign    4.847098  Parietal     Glioblastoma   \n",
      "2           3   31       1     Benign    5.588391  Parietal       Meningioma   \n",
      "3           4   29       1  Malignant    1.436600  Temporal  Medulloblastoma   \n",
      "4           5   54       0     Benign    2.417506  Parietal     Glioblastoma   \n",
      "\n",
      "  Stage      Symptom_1 Symptom_2 Symptom_3 Radiation_Treatment  \\\n",
      "0   III  Vision Issues  Seizures  Seizures                  No   \n",
      "1    II       Headache  Headache    Nausea                 Yes   \n",
      "2     I  Vision Issues  Headache  Seizures                  No   \n",
      "3    IV  Vision Issues  Seizures  Headache                 Yes   \n",
      "4     I       Headache  Headache  Seizures                  No   \n",
      "\n",
      "  Surgery_Performed Chemotherapy  Survival_Rate  Tumor_Growth_Rate  \\\n",
      "0                No           No      51.312579           0.111876   \n",
      "1               Yes          Yes      46.373273           2.165736   \n",
      "2                No           No      47.072221           1.884228   \n",
      "3                No          Yes      51.853634           1.283342   \n",
      "4                No          Yes      54.708987           2.069477   \n",
      "\n",
      "  Family_History MRI_Result Follow_Up_Required  \n",
      "0             No   Positive                Yes  \n",
      "1            Yes   Positive                Yes  \n",
      "2             No   Negative                 No  \n",
      "3            Yes   Negative                 No  \n",
      "4             No   Positive                Yes  \n"
     ]
    }
   ],
   "source": [
    "print(df.head())\n"
   ]
  },
  {
   "cell_type": "code",
   "execution_count": 193,
   "id": "fce1e1fb-73bb-44f1-83f4-66bfd266ce45",
   "metadata": {},
   "outputs": [],
   "source": [
    "df['Tumor_Type'] = df['Tumor_Type'].map({'Malignant': 1, 'Benign': 0})"
   ]
  },
  {
   "cell_type": "code",
   "execution_count": 194,
   "id": "b8bb96a1-ff5c-46ad-9e11-542b5cbf038d",
   "metadata": {},
   "outputs": [
    {
     "name": "stdout",
     "output_type": "stream",
     "text": [
      "   Patient_ID  Age  Gender  Tumor_Type  Tumor_Size  Location        Histology  \\\n",
      "0           1   73       1           1    5.375612  Temporal      Astrocytoma   \n",
      "1           2   26       1           0    4.847098  Parietal     Glioblastoma   \n",
      "2           3   31       1           0    5.588391  Parietal       Meningioma   \n",
      "3           4   29       1           1    1.436600  Temporal  Medulloblastoma   \n",
      "4           5   54       0           0    2.417506  Parietal     Glioblastoma   \n",
      "\n",
      "  Stage      Symptom_1 Symptom_2 Symptom_3 Radiation_Treatment  \\\n",
      "0   III  Vision Issues  Seizures  Seizures                  No   \n",
      "1    II       Headache  Headache    Nausea                 Yes   \n",
      "2     I  Vision Issues  Headache  Seizures                  No   \n",
      "3    IV  Vision Issues  Seizures  Headache                 Yes   \n",
      "4     I       Headache  Headache  Seizures                  No   \n",
      "\n",
      "  Surgery_Performed Chemotherapy  Survival_Rate  Tumor_Growth_Rate  \\\n",
      "0                No           No      51.312579           0.111876   \n",
      "1               Yes          Yes      46.373273           2.165736   \n",
      "2                No           No      47.072221           1.884228   \n",
      "3                No          Yes      51.853634           1.283342   \n",
      "4                No          Yes      54.708987           2.069477   \n",
      "\n",
      "  Family_History MRI_Result Follow_Up_Required  \n",
      "0             No   Positive                Yes  \n",
      "1            Yes   Positive                Yes  \n",
      "2             No   Negative                 No  \n",
      "3            Yes   Negative                 No  \n",
      "4             No   Positive                Yes  \n"
     ]
    }
   ],
   "source": [
    "print(df.head())\n"
   ]
  },
  {
   "cell_type": "code",
   "execution_count": 195,
   "id": "fc906118-5722-4da9-85ca-a6949d68afb0",
   "metadata": {},
   "outputs": [],
   "source": [
    "df = pd.get_dummies(df, columns=['Location'], prefix='Location', drop_first=False)"
   ]
  },
  {
   "cell_type": "code",
   "execution_count": 196,
   "id": "9a9b75de-6840-4e14-8eba-7b4e1b8cdacc",
   "metadata": {},
   "outputs": [
    {
     "name": "stdout",
     "output_type": "stream",
     "text": [
      "   Patient_ID  Age  Gender  Tumor_Type  Tumor_Size        Histology Stage  \\\n",
      "0           1   73       1           1    5.375612      Astrocytoma   III   \n",
      "1           2   26       1           0    4.847098     Glioblastoma    II   \n",
      "2           3   31       1           0    5.588391       Meningioma     I   \n",
      "3           4   29       1           1    1.436600  Medulloblastoma    IV   \n",
      "4           5   54       0           0    2.417506     Glioblastoma     I   \n",
      "\n",
      "       Symptom_1 Symptom_2 Symptom_3  ... Chemotherapy Survival_Rate  \\\n",
      "0  Vision Issues  Seizures  Seizures  ...           No     51.312579   \n",
      "1       Headache  Headache    Nausea  ...          Yes     46.373273   \n",
      "2  Vision Issues  Headache  Seizures  ...           No     47.072221   \n",
      "3  Vision Issues  Seizures  Headache  ...          Yes     51.853634   \n",
      "4       Headache  Headache  Seizures  ...          Yes     54.708987   \n",
      "\n",
      "  Tumor_Growth_Rate  Family_History  MRI_Result Follow_Up_Required  \\\n",
      "0          0.111876              No    Positive                Yes   \n",
      "1          2.165736             Yes    Positive                Yes   \n",
      "2          1.884228              No    Negative                 No   \n",
      "3          1.283342             Yes    Negative                 No   \n",
      "4          2.069477              No    Positive                Yes   \n",
      "\n",
      "  Location_Frontal Location_Occipital  Location_Parietal  Location_Temporal  \n",
      "0            False              False              False               True  \n",
      "1            False              False               True              False  \n",
      "2            False              False               True              False  \n",
      "3            False              False              False               True  \n",
      "4            False              False               True              False  \n",
      "\n",
      "[5 rows x 22 columns]\n"
     ]
    }
   ],
   "source": [
    "print(df.head())\n"
   ]
  },
  {
   "cell_type": "code",
   "execution_count": 197,
   "id": "4e2ee4e6-346d-4694-bf1a-cb3e23c06147",
   "metadata": {},
   "outputs": [],
   "source": [
    "# Convert Location one-hot encoded columns (currently boolean True/False) into integers 1 and 0\n",
    "location_cols = [col for col in df.columns if col.startswith('Location_')]\n",
    "df[location_cols] = df[location_cols].astype(int)"
   ]
  },
  {
   "cell_type": "code",
   "execution_count": 198,
   "id": "155cc5b1-cf40-4e98-83fa-473efdcbbe1f",
   "metadata": {},
   "outputs": [
    {
     "name": "stdout",
     "output_type": "stream",
     "text": [
      "   Patient_ID  Age  Gender  Tumor_Type  Tumor_Size        Histology Stage  \\\n",
      "0           1   73       1           1    5.375612      Astrocytoma   III   \n",
      "1           2   26       1           0    4.847098     Glioblastoma    II   \n",
      "2           3   31       1           0    5.588391       Meningioma     I   \n",
      "3           4   29       1           1    1.436600  Medulloblastoma    IV   \n",
      "4           5   54       0           0    2.417506     Glioblastoma     I   \n",
      "\n",
      "       Symptom_1 Symptom_2 Symptom_3  ... Chemotherapy Survival_Rate  \\\n",
      "0  Vision Issues  Seizures  Seizures  ...           No     51.312579   \n",
      "1       Headache  Headache    Nausea  ...          Yes     46.373273   \n",
      "2  Vision Issues  Headache  Seizures  ...           No     47.072221   \n",
      "3  Vision Issues  Seizures  Headache  ...          Yes     51.853634   \n",
      "4       Headache  Headache  Seizures  ...          Yes     54.708987   \n",
      "\n",
      "  Tumor_Growth_Rate  Family_History  MRI_Result Follow_Up_Required  \\\n",
      "0          0.111876              No    Positive                Yes   \n",
      "1          2.165736             Yes    Positive                Yes   \n",
      "2          1.884228              No    Negative                 No   \n",
      "3          1.283342             Yes    Negative                 No   \n",
      "4          2.069477              No    Positive                Yes   \n",
      "\n",
      "  Location_Frontal Location_Occipital  Location_Parietal  Location_Temporal  \n",
      "0                0                  0                  0                  1  \n",
      "1                0                  0                  1                  0  \n",
      "2                0                  0                  1                  0  \n",
      "3                0                  0                  0                  1  \n",
      "4                0                  0                  1                  0  \n",
      "\n",
      "[5 rows x 22 columns]\n"
     ]
    }
   ],
   "source": [
    "print(df.head())\n"
   ]
  },
  {
   "cell_type": "code",
   "execution_count": 199,
   "id": "4404a5a2-a82d-4fd8-bea5-35f753f00afa",
   "metadata": {},
   "outputs": [],
   "source": [
    "# One-hot encode the 'Histology' column\n",
    "df = pd.get_dummies(df, columns=['Histology'], prefix='Histology', drop_first=False)\n",
    "\n",
    "# Convert the newly created one-hot columns (which may be True/False) to 1/0\n",
    "histology_cols = [col for col in df.columns if col.startswith('Histology_')]\n",
    "df[histology_cols] = df[histology_cols].astype(int)"
   ]
  },
  {
   "cell_type": "code",
   "execution_count": 200,
   "id": "3a17eb66-cfc5-4f9d-8e8b-7eda6b48cce4",
   "metadata": {},
   "outputs": [
    {
     "name": "stdout",
     "output_type": "stream",
     "text": [
      "   Patient_ID  Age  Gender  Tumor_Type  Tumor_Size Stage      Symptom_1  \\\n",
      "0           1   73       1           1    5.375612   III  Vision Issues   \n",
      "1           2   26       1           0    4.847098    II       Headache   \n",
      "2           3   31       1           0    5.588391     I  Vision Issues   \n",
      "3           4   29       1           1    1.436600    IV  Vision Issues   \n",
      "4           5   54       0           0    2.417506     I       Headache   \n",
      "\n",
      "  Symptom_2 Symptom_3 Radiation_Treatment  ... MRI_Result Follow_Up_Required  \\\n",
      "0  Seizures  Seizures                  No  ...   Positive                Yes   \n",
      "1  Headache    Nausea                 Yes  ...   Positive                Yes   \n",
      "2  Headache  Seizures                  No  ...   Negative                 No   \n",
      "3  Seizures  Headache                 Yes  ...   Negative                 No   \n",
      "4  Headache  Seizures                  No  ...   Positive                Yes   \n",
      "\n",
      "   Location_Frontal  Location_Occipital Location_Parietal Location_Temporal  \\\n",
      "0                 0                   0                 0                 1   \n",
      "1                 0                   0                 1                 0   \n",
      "2                 0                   0                 1                 0   \n",
      "3                 0                   0                 0                 1   \n",
      "4                 0                   0                 1                 0   \n",
      "\n",
      "  Histology_Astrocytoma  Histology_Glioblastoma  Histology_Medulloblastoma  \\\n",
      "0                     1                       0                          0   \n",
      "1                     0                       1                          0   \n",
      "2                     0                       0                          0   \n",
      "3                     0                       0                          1   \n",
      "4                     0                       1                          0   \n",
      "\n",
      "   Histology_Meningioma  \n",
      "0                     0  \n",
      "1                     0  \n",
      "2                     1  \n",
      "3                     0  \n",
      "4                     0  \n",
      "\n",
      "[5 rows x 25 columns]\n"
     ]
    }
   ],
   "source": [
    "print(df.head())\n"
   ]
  },
  {
   "cell_type": "code",
   "execution_count": 201,
   "id": "f3701371-a28d-4105-833b-909b2205f7be",
   "metadata": {},
   "outputs": [],
   "source": [
    "# Remove any leading/trailing whitespace in the 'Stage' column\n",
    "df['Stage'] = df['Stage'].str.strip()\n",
    "\n",
    "# Map Roman numerals to integers\n",
    "stage_mapping = {\n",
    "    'I': 1,\n",
    "    'II': 2,\n",
    "    'III': 3,\n",
    "    'IV': 4\n",
    "}\n",
    "\n",
    "df['Stage'] = df['Stage'].map(stage_mapping)"
   ]
  },
  {
   "cell_type": "code",
   "execution_count": 202,
   "id": "99bf7426-8e07-4a6d-8d2f-c0cb855b84c0",
   "metadata": {},
   "outputs": [
    {
     "name": "stdout",
     "output_type": "stream",
     "text": [
      "   Patient_ID  Age  Gender  Tumor_Type  Tumor_Size  Stage      Symptom_1  \\\n",
      "0           1   73       1           1    5.375612      3  Vision Issues   \n",
      "1           2   26       1           0    4.847098      2       Headache   \n",
      "2           3   31       1           0    5.588391      1  Vision Issues   \n",
      "3           4   29       1           1    1.436600      4  Vision Issues   \n",
      "4           5   54       0           0    2.417506      1       Headache   \n",
      "\n",
      "  Symptom_2 Symptom_3 Radiation_Treatment  ... MRI_Result Follow_Up_Required  \\\n",
      "0  Seizures  Seizures                  No  ...   Positive                Yes   \n",
      "1  Headache    Nausea                 Yes  ...   Positive                Yes   \n",
      "2  Headache  Seizures                  No  ...   Negative                 No   \n",
      "3  Seizures  Headache                 Yes  ...   Negative                 No   \n",
      "4  Headache  Seizures                  No  ...   Positive                Yes   \n",
      "\n",
      "   Location_Frontal  Location_Occipital Location_Parietal Location_Temporal  \\\n",
      "0                 0                   0                 0                 1   \n",
      "1                 0                   0                 1                 0   \n",
      "2                 0                   0                 1                 0   \n",
      "3                 0                   0                 0                 1   \n",
      "4                 0                   0                 1                 0   \n",
      "\n",
      "  Histology_Astrocytoma  Histology_Glioblastoma  Histology_Medulloblastoma  \\\n",
      "0                     1                       0                          0   \n",
      "1                     0                       1                          0   \n",
      "2                     0                       0                          0   \n",
      "3                     0                       0                          1   \n",
      "4                     0                       1                          0   \n",
      "\n",
      "   Histology_Meningioma  \n",
      "0                     0  \n",
      "1                     0  \n",
      "2                     1  \n",
      "3                     0  \n",
      "4                     0  \n",
      "\n",
      "[5 rows x 25 columns]\n"
     ]
    }
   ],
   "source": [
    "print(df.head())\n"
   ]
  },
  {
   "cell_type": "code",
   "execution_count": 203,
   "id": "ee881a96-730c-4cdb-9823-09da5a56e79f",
   "metadata": {},
   "outputs": [],
   "source": [
    "possible_symptoms = ['Headache', 'Nausea', 'Seizures', 'Vision Issues']\n",
    "for symptom in possible_symptoms:\n",
    "    df[symptom] = df[['Symptom_1', 'Symptom_2', 'Symptom_3']].apply(\n",
    "        lambda row: 1 if symptom in row.values else 0,\n",
    "        axis=1\n",
    "    )\n",
    "df.drop(columns=['Symptom_1', 'Symptom_2', 'Symptom_3'], inplace=True)\n"
   ]
  },
  {
   "cell_type": "code",
   "execution_count": 204,
   "id": "6f3bbcf6-3498-4a91-a00f-efa2632f432a",
   "metadata": {},
   "outputs": [
    {
     "name": "stdout",
     "output_type": "stream",
     "text": [
      "   Patient_ID  Age  Gender  Tumor_Type  Tumor_Size  Stage Radiation_Treatment  \\\n",
      "0           1   73       1           1    5.375612      3                  No   \n",
      "1           2   26       1           0    4.847098      2                 Yes   \n",
      "2           3   31       1           0    5.588391      1                  No   \n",
      "3           4   29       1           1    1.436600      4                 Yes   \n",
      "4           5   54       0           0    2.417506      1                  No   \n",
      "\n",
      "  Surgery_Performed Chemotherapy  Survival_Rate  ...  Location_Parietal  \\\n",
      "0                No           No      51.312579  ...                  0   \n",
      "1               Yes          Yes      46.373273  ...                  1   \n",
      "2                No           No      47.072221  ...                  1   \n",
      "3                No          Yes      51.853634  ...                  0   \n",
      "4                No          Yes      54.708987  ...                  1   \n",
      "\n",
      "  Location_Temporal Histology_Astrocytoma Histology_Glioblastoma  \\\n",
      "0                 1                     1                      0   \n",
      "1                 0                     0                      1   \n",
      "2                 0                     0                      0   \n",
      "3                 1                     0                      0   \n",
      "4                 0                     0                      1   \n",
      "\n",
      "   Histology_Medulloblastoma  Histology_Meningioma  Headache  Nausea  \\\n",
      "0                          0                     0         0       0   \n",
      "1                          0                     0         1       1   \n",
      "2                          0                     1         1       0   \n",
      "3                          1                     0         1       0   \n",
      "4                          0                     0         1       0   \n",
      "\n",
      "   Seizures  Vision Issues  \n",
      "0         1              1  \n",
      "1         0              0  \n",
      "2         1              1  \n",
      "3         1              1  \n",
      "4         1              0  \n",
      "\n",
      "[5 rows x 26 columns]\n"
     ]
    }
   ],
   "source": [
    "print(df.head())\n"
   ]
  },
  {
   "cell_type": "code",
   "execution_count": 205,
   "id": "01f9ce16-87b6-4bf9-9efa-be6191a32dab",
   "metadata": {},
   "outputs": [],
   "source": [
    "df['Radiation_Treatment'] = df['Radiation_Treatment'].map({'Yes': 1, 'No': 0})"
   ]
  },
  {
   "cell_type": "code",
   "execution_count": 206,
   "id": "a29b1be5-17e8-463d-8c0d-68bea1959cbf",
   "metadata": {},
   "outputs": [
    {
     "name": "stdout",
     "output_type": "stream",
     "text": [
      "   Patient_ID  Age  Gender  Tumor_Type  Tumor_Size  Stage  \\\n",
      "0           1   73       1           1    5.375612      3   \n",
      "1           2   26       1           0    4.847098      2   \n",
      "2           3   31       1           0    5.588391      1   \n",
      "3           4   29       1           1    1.436600      4   \n",
      "4           5   54       0           0    2.417506      1   \n",
      "\n",
      "   Radiation_Treatment Surgery_Performed Chemotherapy  Survival_Rate  ...  \\\n",
      "0                    0                No           No      51.312579  ...   \n",
      "1                    1               Yes          Yes      46.373273  ...   \n",
      "2                    0                No           No      47.072221  ...   \n",
      "3                    1                No          Yes      51.853634  ...   \n",
      "4                    0                No          Yes      54.708987  ...   \n",
      "\n",
      "   Location_Parietal Location_Temporal Histology_Astrocytoma  \\\n",
      "0                  0                 1                     1   \n",
      "1                  1                 0                     0   \n",
      "2                  1                 0                     0   \n",
      "3                  0                 1                     0   \n",
      "4                  1                 0                     0   \n",
      "\n",
      "  Histology_Glioblastoma  Histology_Medulloblastoma  Histology_Meningioma  \\\n",
      "0                      0                          0                     0   \n",
      "1                      1                          0                     0   \n",
      "2                      0                          0                     1   \n",
      "3                      0                          1                     0   \n",
      "4                      1                          0                     0   \n",
      "\n",
      "   Headache  Nausea  Seizures  Vision Issues  \n",
      "0         0       0         1              1  \n",
      "1         1       1         0              0  \n",
      "2         1       0         1              1  \n",
      "3         1       0         1              1  \n",
      "4         1       0         1              0  \n",
      "\n",
      "[5 rows x 26 columns]\n"
     ]
    }
   ],
   "source": [
    "print(df.head())\n"
   ]
  },
  {
   "cell_type": "code",
   "execution_count": 207,
   "id": "6e5b6b43-9604-41e5-87cf-4fcc6494cd72",
   "metadata": {},
   "outputs": [],
   "source": [
    "df['Surgery_Performed'] = df['Surgery_Performed'].map({'Yes': 1, 'No': 0})"
   ]
  },
  {
   "cell_type": "code",
   "execution_count": 208,
   "id": "671ea5e3-63a3-4a19-ae83-490c7e879685",
   "metadata": {},
   "outputs": [
    {
     "name": "stdout",
     "output_type": "stream",
     "text": [
      "   Patient_ID  Age  Gender  Tumor_Type  Tumor_Size  Stage  \\\n",
      "0           1   73       1           1    5.375612      3   \n",
      "1           2   26       1           0    4.847098      2   \n",
      "2           3   31       1           0    5.588391      1   \n",
      "3           4   29       1           1    1.436600      4   \n",
      "4           5   54       0           0    2.417506      1   \n",
      "\n",
      "   Radiation_Treatment  Surgery_Performed Chemotherapy  Survival_Rate  ...  \\\n",
      "0                    0                  0           No      51.312579  ...   \n",
      "1                    1                  1          Yes      46.373273  ...   \n",
      "2                    0                  0           No      47.072221  ...   \n",
      "3                    1                  0          Yes      51.853634  ...   \n",
      "4                    0                  0          Yes      54.708987  ...   \n",
      "\n",
      "   Location_Parietal Location_Temporal Histology_Astrocytoma  \\\n",
      "0                  0                 1                     1   \n",
      "1                  1                 0                     0   \n",
      "2                  1                 0                     0   \n",
      "3                  0                 1                     0   \n",
      "4                  1                 0                     0   \n",
      "\n",
      "  Histology_Glioblastoma  Histology_Medulloblastoma  Histology_Meningioma  \\\n",
      "0                      0                          0                     0   \n",
      "1                      1                          0                     0   \n",
      "2                      0                          0                     1   \n",
      "3                      0                          1                     0   \n",
      "4                      1                          0                     0   \n",
      "\n",
      "   Headache  Nausea  Seizures  Vision Issues  \n",
      "0         0       0         1              1  \n",
      "1         1       1         0              0  \n",
      "2         1       0         1              1  \n",
      "3         1       0         1              1  \n",
      "4         1       0         1              0  \n",
      "\n",
      "[5 rows x 26 columns]\n"
     ]
    }
   ],
   "source": [
    "print(df.head())\n"
   ]
  },
  {
   "cell_type": "code",
   "execution_count": 209,
   "id": "80eb1234-af21-4db8-8aa1-5e8c81c7da18",
   "metadata": {},
   "outputs": [],
   "source": [
    "df['Chemotherapy'] = df['Chemotherapy'].map({'Yes': 1, 'No': 0})"
   ]
  },
  {
   "cell_type": "code",
   "execution_count": 210,
   "id": "5e491202-edaa-488e-8dac-3287f85124af",
   "metadata": {},
   "outputs": [
    {
     "name": "stdout",
     "output_type": "stream",
     "text": [
      "   Patient_ID  Age  Gender  Tumor_Type  Tumor_Size  Stage  \\\n",
      "0           1   73       1           1    5.375612      3   \n",
      "1           2   26       1           0    4.847098      2   \n",
      "2           3   31       1           0    5.588391      1   \n",
      "3           4   29       1           1    1.436600      4   \n",
      "4           5   54       0           0    2.417506      1   \n",
      "\n",
      "   Radiation_Treatment  Surgery_Performed  Chemotherapy  Survival_Rate  ...  \\\n",
      "0                    0                  0             0      51.312579  ...   \n",
      "1                    1                  1             1      46.373273  ...   \n",
      "2                    0                  0             0      47.072221  ...   \n",
      "3                    1                  0             1      51.853634  ...   \n",
      "4                    0                  0             1      54.708987  ...   \n",
      "\n",
      "   Location_Parietal Location_Temporal Histology_Astrocytoma  \\\n",
      "0                  0                 1                     1   \n",
      "1                  1                 0                     0   \n",
      "2                  1                 0                     0   \n",
      "3                  0                 1                     0   \n",
      "4                  1                 0                     0   \n",
      "\n",
      "  Histology_Glioblastoma  Histology_Medulloblastoma  Histology_Meningioma  \\\n",
      "0                      0                          0                     0   \n",
      "1                      1                          0                     0   \n",
      "2                      0                          0                     1   \n",
      "3                      0                          1                     0   \n",
      "4                      1                          0                     0   \n",
      "\n",
      "   Headache  Nausea  Seizures  Vision Issues  \n",
      "0         0       0         1              1  \n",
      "1         1       1         0              0  \n",
      "2         1       0         1              1  \n",
      "3         1       0         1              1  \n",
      "4         1       0         1              0  \n",
      "\n",
      "[5 rows x 26 columns]\n"
     ]
    }
   ],
   "source": [
    "print(df.head())\n"
   ]
  },
  {
   "cell_type": "code",
   "execution_count": 211,
   "id": "1329cc48-8604-4a38-bed7-001eafc04fbb",
   "metadata": {},
   "outputs": [],
   "source": [
    "df['Family_History'] = df['Family_History'].map({'Yes': 1, 'No': 0})"
   ]
  },
  {
   "cell_type": "code",
   "execution_count": 212,
   "id": "37b52b14-3603-4483-af3c-16cdc86c75b0",
   "metadata": {},
   "outputs": [
    {
     "name": "stdout",
     "output_type": "stream",
     "text": [
      "   Patient_ID  Age  Gender  Tumor_Type  Tumor_Size  Stage  \\\n",
      "0           1   73       1           1    5.375612      3   \n",
      "1           2   26       1           0    4.847098      2   \n",
      "2           3   31       1           0    5.588391      1   \n",
      "3           4   29       1           1    1.436600      4   \n",
      "4           5   54       0           0    2.417506      1   \n",
      "\n",
      "   Radiation_Treatment  Surgery_Performed  Chemotherapy  Survival_Rate  ...  \\\n",
      "0                    0                  0             0      51.312579  ...   \n",
      "1                    1                  1             1      46.373273  ...   \n",
      "2                    0                  0             0      47.072221  ...   \n",
      "3                    1                  0             1      51.853634  ...   \n",
      "4                    0                  0             1      54.708987  ...   \n",
      "\n",
      "   Location_Parietal  Location_Temporal Histology_Astrocytoma  \\\n",
      "0                  0                  1                     1   \n",
      "1                  1                  0                     0   \n",
      "2                  1                  0                     0   \n",
      "3                  0                  1                     0   \n",
      "4                  1                  0                     0   \n",
      "\n",
      "  Histology_Glioblastoma  Histology_Medulloblastoma  Histology_Meningioma  \\\n",
      "0                      0                          0                     0   \n",
      "1                      1                          0                     0   \n",
      "2                      0                          0                     1   \n",
      "3                      0                          1                     0   \n",
      "4                      1                          0                     0   \n",
      "\n",
      "   Headache  Nausea  Seizures  Vision Issues  \n",
      "0         0       0         1              1  \n",
      "1         1       1         0              0  \n",
      "2         1       0         1              1  \n",
      "3         1       0         1              1  \n",
      "4         1       0         1              0  \n",
      "\n",
      "[5 rows x 26 columns]\n"
     ]
    }
   ],
   "source": [
    "print(df.head())\n"
   ]
  },
  {
   "cell_type": "code",
   "execution_count": 213,
   "id": "6745721e-d8db-41b6-8364-e1d5d4e22136",
   "metadata": {},
   "outputs": [],
   "source": [
    "df['Follow_Up_Required'] = df['Follow_Up_Required'].map({'Yes': 1, 'No': 0})"
   ]
  },
  {
   "cell_type": "code",
   "execution_count": 214,
   "id": "f3c4fe96-977a-4594-a112-24bab1d82ff8",
   "metadata": {},
   "outputs": [
    {
     "name": "stdout",
     "output_type": "stream",
     "text": [
      "   Patient_ID  Age  Gender  Tumor_Type  Tumor_Size  Stage  \\\n",
      "0           1   73       1           1    5.375612      3   \n",
      "1           2   26       1           0    4.847098      2   \n",
      "2           3   31       1           0    5.588391      1   \n",
      "3           4   29       1           1    1.436600      4   \n",
      "4           5   54       0           0    2.417506      1   \n",
      "\n",
      "   Radiation_Treatment  Surgery_Performed  Chemotherapy  Survival_Rate  ...  \\\n",
      "0                    0                  0             0      51.312579  ...   \n",
      "1                    1                  1             1      46.373273  ...   \n",
      "2                    0                  0             0      47.072221  ...   \n",
      "3                    1                  0             1      51.853634  ...   \n",
      "4                    0                  0             1      54.708987  ...   \n",
      "\n",
      "   Location_Parietal  Location_Temporal Histology_Astrocytoma  \\\n",
      "0                  0                  1                     1   \n",
      "1                  1                  0                     0   \n",
      "2                  1                  0                     0   \n",
      "3                  0                  1                     0   \n",
      "4                  1                  0                     0   \n",
      "\n",
      "   Histology_Glioblastoma  Histology_Medulloblastoma  Histology_Meningioma  \\\n",
      "0                       0                          0                     0   \n",
      "1                       1                          0                     0   \n",
      "2                       0                          0                     1   \n",
      "3                       0                          1                     0   \n",
      "4                       1                          0                     0   \n",
      "\n",
      "   Headache  Nausea  Seizures  Vision Issues  \n",
      "0         0       0         1              1  \n",
      "1         1       1         0              0  \n",
      "2         1       0         1              1  \n",
      "3         1       0         1              1  \n",
      "4         1       0         1              0  \n",
      "\n",
      "[5 rows x 26 columns]\n"
     ]
    }
   ],
   "source": [
    "print(df.head())\n"
   ]
  },
  {
   "cell_type": "code",
   "execution_count": 215,
   "id": "3cf33edc-1191-493b-a110-f9725a5525c4",
   "metadata": {},
   "outputs": [],
   "source": [
    "df['MRI_Result'] = df['MRI_Result'].map({'Positive': 1, 'Negative': 0})"
   ]
  },
  {
   "cell_type": "code",
   "execution_count": 216,
   "id": "722933f6-d826-4e4a-b830-4e1068625436",
   "metadata": {},
   "outputs": [
    {
     "name": "stdout",
     "output_type": "stream",
     "text": [
      "   Patient_ID  Age  Gender  Tumor_Type  Tumor_Size  Stage  \\\n",
      "0           1   73       1           1    5.375612      3   \n",
      "1           2   26       1           0    4.847098      2   \n",
      "2           3   31       1           0    5.588391      1   \n",
      "3           4   29       1           1    1.436600      4   \n",
      "4           5   54       0           0    2.417506      1   \n",
      "\n",
      "   Radiation_Treatment  Surgery_Performed  Chemotherapy  Survival_Rate  ...  \\\n",
      "0                    0                  0             0      51.312579  ...   \n",
      "1                    1                  1             1      46.373273  ...   \n",
      "2                    0                  0             0      47.072221  ...   \n",
      "3                    1                  0             1      51.853634  ...   \n",
      "4                    0                  0             1      54.708987  ...   \n",
      "\n",
      "   Location_Parietal  Location_Temporal  Histology_Astrocytoma  \\\n",
      "0                  0                  1                      1   \n",
      "1                  1                  0                      0   \n",
      "2                  1                  0                      0   \n",
      "3                  0                  1                      0   \n",
      "4                  1                  0                      0   \n",
      "\n",
      "   Histology_Glioblastoma  Histology_Medulloblastoma  Histology_Meningioma  \\\n",
      "0                       0                          0                     0   \n",
      "1                       1                          0                     0   \n",
      "2                       0                          0                     1   \n",
      "3                       0                          1                     0   \n",
      "4                       1                          0                     0   \n",
      "\n",
      "   Headache  Nausea  Seizures  Vision Issues  \n",
      "0         0       0         1              1  \n",
      "1         1       1         0              0  \n",
      "2         1       0         1              1  \n",
      "3         1       0         1              1  \n",
      "4         1       0         1              0  \n",
      "\n",
      "[5 rows x 26 columns]\n"
     ]
    }
   ],
   "source": [
    "print(df.head())"
   ]
  },
  {
   "cell_type": "code",
   "execution_count": 217,
   "id": "71434502-3d12-40f2-9510-ee00b5ede176",
   "metadata": {},
   "outputs": [],
   "source": [
    "df.to_csv('brain_tumor_cleaned.csv', index=False)"
   ]
  },
  {
   "cell_type": "code",
   "execution_count": null,
   "id": "110edae2-9639-494b-b1d4-d7a416a66f4e",
   "metadata": {},
   "outputs": [],
   "source": []
  }
 ],
 "metadata": {
  "kernelspec": {
   "display_name": "Python [conda env:base] *",
   "language": "python",
   "name": "conda-base-py"
  },
  "language_info": {
   "codemirror_mode": {
    "name": "ipython",
    "version": 3
   },
   "file_extension": ".py",
   "mimetype": "text/x-python",
   "name": "python",
   "nbconvert_exporter": "python",
   "pygments_lexer": "ipython3",
   "version": "3.12.7"
  }
 },
 "nbformat": 4,
 "nbformat_minor": 5
}
